{
 "cells": [
  {
   "cell_type": "markdown",
   "metadata": {},
   "source": [
    "# WiGLE API export - Test Analysis"
   ]
  },
  {
   "cell_type": "markdown",
   "metadata": {},
   "source": [
    "Go to [WiGLE](https://wigle.net/) and in the toolbar, select **Tools** and then **Account**. Register or Login in order to obtain you API key. Then, in the toolbar select **Tools** and **API**. From here, you can use the Swagger UI to run queries (you must select **Authorize** and then enter your API information in the the User and Password sections) OR you can take your API key to interact directly with the API."
   ]
  },
  {
   "cell_type": "markdown",
   "metadata": {},
   "source": [
    "**Note:** A single query will only return 100 results and larger extracts require contacting WiGLE sys admins."
   ]
  },
  {
   "cell_type": "code",
   "execution_count": 1,
   "metadata": {},
   "outputs": [],
   "source": [
    "import pandas as pd\n",
    "%matplotlib inline"
   ]
  },
  {
   "cell_type": "code",
   "execution_count": 2,
   "metadata": {
    "collapsed": true
   },
   "outputs": [],
   "source": [
    "wigle_lex = pd.read_json('lex.json')"
   ]
  },
  {
   "cell_type": "code",
   "execution_count": 3,
   "metadata": {
    "scrolled": true
   },
   "outputs": [
    {
     "data": {
      "text/html": [
       "<div>\n",
       "<table border=\"1\" class=\"dataframe\">\n",
       "  <thead>\n",
       "    <tr style=\"text-align: right;\">\n",
       "      <th></th>\n",
       "      <th>first</th>\n",
       "      <th>last</th>\n",
       "      <th>resultCount</th>\n",
       "      <th>results</th>\n",
       "      <th>search_after</th>\n",
       "      <th>success</th>\n",
       "      <th>totalResults</th>\n",
       "    </tr>\n",
       "  </thead>\n",
       "  <tbody>\n",
       "    <tr>\n",
       "      <th>0</th>\n",
       "      <td>1</td>\n",
       "      <td>100</td>\n",
       "      <td>100</td>\n",
       "      <td>{'trilong': -84.42301941, 'lastupdt': '2013-05...</td>\n",
       "      <td>56309</td>\n",
       "      <td>True</td>\n",
       "      <td>162722</td>\n",
       "    </tr>\n",
       "    <tr>\n",
       "      <th>1</th>\n",
       "      <td>1</td>\n",
       "      <td>100</td>\n",
       "      <td>100</td>\n",
       "      <td>{'trilong': -84.42170715, 'lastupdt': '2015-06...</td>\n",
       "      <td>56309</td>\n",
       "      <td>True</td>\n",
       "      <td>162722</td>\n",
       "    </tr>\n",
       "    <tr>\n",
       "      <th>2</th>\n",
       "      <td>1</td>\n",
       "      <td>100</td>\n",
       "      <td>100</td>\n",
       "      <td>{'trilong': -84.56472778, 'lastupdt': '2010-03...</td>\n",
       "      <td>56309</td>\n",
       "      <td>True</td>\n",
       "      <td>162722</td>\n",
       "    </tr>\n",
       "    <tr>\n",
       "      <th>3</th>\n",
       "      <td>1</td>\n",
       "      <td>100</td>\n",
       "      <td>100</td>\n",
       "      <td>{'trilong': -84.41969299, 'lastupdt': '2007-07...</td>\n",
       "      <td>56309</td>\n",
       "      <td>True</td>\n",
       "      <td>162722</td>\n",
       "    </tr>\n",
       "    <tr>\n",
       "      <th>4</th>\n",
       "      <td>1</td>\n",
       "      <td>100</td>\n",
       "      <td>100</td>\n",
       "      <td>{'trilong': -84.56988525, 'lastupdt': '2010-03...</td>\n",
       "      <td>56309</td>\n",
       "      <td>True</td>\n",
       "      <td>162722</td>\n",
       "    </tr>\n",
       "  </tbody>\n",
       "</table>\n",
       "</div>"
      ],
      "text/plain": [
       "   first  last  resultCount  \\\n",
       "0      1   100          100   \n",
       "1      1   100          100   \n",
       "2      1   100          100   \n",
       "3      1   100          100   \n",
       "4      1   100          100   \n",
       "\n",
       "                                             results  search_after success  \\\n",
       "0  {'trilong': -84.42301941, 'lastupdt': '2013-05...         56309    True   \n",
       "1  {'trilong': -84.42170715, 'lastupdt': '2015-06...         56309    True   \n",
       "2  {'trilong': -84.56472778, 'lastupdt': '2010-03...         56309    True   \n",
       "3  {'trilong': -84.41969299, 'lastupdt': '2007-07...         56309    True   \n",
       "4  {'trilong': -84.56988525, 'lastupdt': '2010-03...         56309    True   \n",
       "\n",
       "   totalResults  \n",
       "0        162722  \n",
       "1        162722  \n",
       "2        162722  \n",
       "3        162722  \n",
       "4        162722  "
      ]
     },
     "execution_count": 3,
     "metadata": {},
     "output_type": "execute_result"
    }
   ],
   "source": [
    "wigle_lex.head(5)"
   ]
  },
  {
   "cell_type": "markdown",
   "metadata": {},
   "source": [
    "Currently (as of 30 AUG 2017) 162722 total records for Lexington, KY (geofenced)"
   ]
  },
  {
   "cell_type": "code",
   "execution_count": 4,
   "metadata": {
    "scrolled": true
   },
   "outputs": [
    {
     "data": {
      "text/plain": [
       "{'bcninterval': 0,\n",
       " 'channel': 11,\n",
       " 'city': None,\n",
       " 'comment': None,\n",
       " 'country': 'US',\n",
       " 'dhcp': '?',\n",
       " 'firsttime': '2011-05-27T16:50:52.000Z',\n",
       " 'freenet': '?',\n",
       " 'housenumber': None,\n",
       " 'lasttime': '2013-05-28T03:31:31.000Z',\n",
       " 'lastupdt': '2013-05-28T01:32:39.000Z',\n",
       " 'name': None,\n",
       " 'netid': '00:18:0A:21:18:31',\n",
       " 'paynet': '?',\n",
       " 'qos': 2,\n",
       " 'region': 'KY',\n",
       " 'road': None,\n",
       " 'ssid': 'Motel 6',\n",
       " 'transid': '20110527-00127',\n",
       " 'trilat': 38.04119492,\n",
       " 'trilong': -84.42301941,\n",
       " 'type': 'infra',\n",
       " 'userfound': False,\n",
       " 'wep': 'N'}"
      ]
     },
     "execution_count": 4,
     "metadata": {},
     "output_type": "execute_result"
    }
   ],
   "source": [
    "wigle_lex.results[0]"
   ]
  },
  {
   "cell_type": "markdown",
   "metadata": {},
   "source": [
    "Need to convert result column into data frame to access signal and location information"
   ]
  },
  {
   "cell_type": "code",
   "execution_count": 5,
   "metadata": {
    "scrolled": true
   },
   "outputs": [
    {
     "data": {
      "text/html": [
       "<div>\n",
       "<table border=\"1\" class=\"dataframe\">\n",
       "  <thead>\n",
       "    <tr style=\"text-align: right;\">\n",
       "      <th></th>\n",
       "      <th>bcninterval</th>\n",
       "      <th>channel</th>\n",
       "      <th>city</th>\n",
       "      <th>comment</th>\n",
       "      <th>country</th>\n",
       "      <th>dhcp</th>\n",
       "      <th>firsttime</th>\n",
       "      <th>freenet</th>\n",
       "      <th>housenumber</th>\n",
       "      <th>lasttime</th>\n",
       "      <th>...</th>\n",
       "      <th>qos</th>\n",
       "      <th>region</th>\n",
       "      <th>road</th>\n",
       "      <th>ssid</th>\n",
       "      <th>transid</th>\n",
       "      <th>trilat</th>\n",
       "      <th>trilong</th>\n",
       "      <th>type</th>\n",
       "      <th>userfound</th>\n",
       "      <th>wep</th>\n",
       "    </tr>\n",
       "  </thead>\n",
       "  <tbody>\n",
       "    <tr>\n",
       "      <th>0</th>\n",
       "      <td>0</td>\n",
       "      <td>11</td>\n",
       "      <td>None</td>\n",
       "      <td>None</td>\n",
       "      <td>US</td>\n",
       "      <td>?</td>\n",
       "      <td>2011-05-27T16:50:52.000Z</td>\n",
       "      <td>?</td>\n",
       "      <td>None</td>\n",
       "      <td>2013-05-28T03:31:31.000Z</td>\n",
       "      <td>...</td>\n",
       "      <td>2</td>\n",
       "      <td>KY</td>\n",
       "      <td>None</td>\n",
       "      <td>Motel 6</td>\n",
       "      <td>20110527-00127</td>\n",
       "      <td>38.041195</td>\n",
       "      <td>-84.423019</td>\n",
       "      <td>infra</td>\n",
       "      <td>False</td>\n",
       "      <td>N</td>\n",
       "    </tr>\n",
       "    <tr>\n",
       "      <th>1</th>\n",
       "      <td>0</td>\n",
       "      <td>11</td>\n",
       "      <td>None</td>\n",
       "      <td>None</td>\n",
       "      <td>None</td>\n",
       "      <td>?</td>\n",
       "      <td>2015-06-03T08:40:20.000Z</td>\n",
       "      <td>?</td>\n",
       "      <td>None</td>\n",
       "      <td>2015-06-03T08:30:25.000Z</td>\n",
       "      <td>...</td>\n",
       "      <td>0</td>\n",
       "      <td>None</td>\n",
       "      <td>None</td>\n",
       "      <td>Motel 6</td>\n",
       "      <td>20150603-00052</td>\n",
       "      <td>38.040455</td>\n",
       "      <td>-84.421707</td>\n",
       "      <td>infra</td>\n",
       "      <td>False</td>\n",
       "      <td>?</td>\n",
       "    </tr>\n",
       "    <tr>\n",
       "      <th>2</th>\n",
       "      <td>0</td>\n",
       "      <td>6</td>\n",
       "      <td>None</td>\n",
       "      <td>None</td>\n",
       "      <td>US</td>\n",
       "      <td>?</td>\n",
       "      <td>2010-03-05T07:13:26.000Z</td>\n",
       "      <td>?</td>\n",
       "      <td>None</td>\n",
       "      <td>2010-03-05T01:20:54.000Z</td>\n",
       "      <td>...</td>\n",
       "      <td>1</td>\n",
       "      <td>KY</td>\n",
       "      <td>None</td>\n",
       "      <td>linksys</td>\n",
       "      <td>20100304-00053</td>\n",
       "      <td>38.024086</td>\n",
       "      <td>-84.564728</td>\n",
       "      <td>infra</td>\n",
       "      <td>False</td>\n",
       "      <td>Y</td>\n",
       "    </tr>\n",
       "    <tr>\n",
       "      <th>3</th>\n",
       "      <td>0</td>\n",
       "      <td>1</td>\n",
       "      <td>None</td>\n",
       "      <td>None</td>\n",
       "      <td>US</td>\n",
       "      <td>?</td>\n",
       "      <td>2007-07-22T23:53:37.000Z</td>\n",
       "      <td>?</td>\n",
       "      <td>None</td>\n",
       "      <td>2007-07-22T19:11:32.000Z</td>\n",
       "      <td>...</td>\n",
       "      <td>1</td>\n",
       "      <td>KY</td>\n",
       "      <td>None</td>\n",
       "      <td>&lt;no ssid&gt;</td>\n",
       "      <td>20070721-00044</td>\n",
       "      <td>38.042881</td>\n",
       "      <td>-84.419693</td>\n",
       "      <td>????</td>\n",
       "      <td>False</td>\n",
       "      <td>N</td>\n",
       "    </tr>\n",
       "    <tr>\n",
       "      <th>4</th>\n",
       "      <td>0</td>\n",
       "      <td>6</td>\n",
       "      <td>None</td>\n",
       "      <td>None</td>\n",
       "      <td>US</td>\n",
       "      <td>?</td>\n",
       "      <td>2010-03-05T07:13:06.000Z</td>\n",
       "      <td>?</td>\n",
       "      <td>None</td>\n",
       "      <td>2010-03-05T01:20:53.000Z</td>\n",
       "      <td>...</td>\n",
       "      <td>1</td>\n",
       "      <td>KY</td>\n",
       "      <td>None</td>\n",
       "      <td>KALMnet</td>\n",
       "      <td>20100304-00053</td>\n",
       "      <td>38.021336</td>\n",
       "      <td>-84.569885</td>\n",
       "      <td>infra</td>\n",
       "      <td>False</td>\n",
       "      <td>Y</td>\n",
       "    </tr>\n",
       "  </tbody>\n",
       "</table>\n",
       "<p>5 rows × 24 columns</p>\n",
       "</div>"
      ],
      "text/plain": [
       "   bcninterval  channel  city comment country dhcp                 firsttime  \\\n",
       "0            0       11  None    None      US    ?  2011-05-27T16:50:52.000Z   \n",
       "1            0       11  None    None    None    ?  2015-06-03T08:40:20.000Z   \n",
       "2            0        6  None    None      US    ?  2010-03-05T07:13:26.000Z   \n",
       "3            0        1  None    None      US    ?  2007-07-22T23:53:37.000Z   \n",
       "4            0        6  None    None      US    ?  2010-03-05T07:13:06.000Z   \n",
       "\n",
       "  freenet housenumber                  lasttime ...  qos region  road  \\\n",
       "0       ?        None  2013-05-28T03:31:31.000Z ...    2     KY  None   \n",
       "1       ?        None  2015-06-03T08:30:25.000Z ...    0   None  None   \n",
       "2       ?        None  2010-03-05T01:20:54.000Z ...    1     KY  None   \n",
       "3       ?        None  2007-07-22T19:11:32.000Z ...    1     KY  None   \n",
       "4       ?        None  2010-03-05T01:20:53.000Z ...    1     KY  None   \n",
       "\n",
       "        ssid         transid     trilat    trilong   type userfound  wep  \n",
       "0    Motel 6  20110527-00127  38.041195 -84.423019  infra     False    N  \n",
       "1    Motel 6  20150603-00052  38.040455 -84.421707  infra     False    ?  \n",
       "2    linksys  20100304-00053  38.024086 -84.564728  infra     False    Y  \n",
       "3  <no ssid>  20070721-00044  38.042881 -84.419693   ????     False    N  \n",
       "4    KALMnet  20100304-00053  38.021336 -84.569885  infra     False    Y  \n",
       "\n",
       "[5 rows x 24 columns]"
      ]
     },
     "execution_count": 5,
     "metadata": {},
     "output_type": "execute_result"
    }
   ],
   "source": [
    "wifi_signals = wigle_lex['results'].apply(pd.Series)\n",
    "wifi_signals.head(5)"
   ]
  },
  {
   "cell_type": "markdown",
   "metadata": {},
   "source": [
    "Mapping Lat/Long with SSID"
   ]
  },
  {
   "cell_type": "code",
   "execution_count": 6,
   "metadata": {
    "collapsed": true
   },
   "outputs": [],
   "source": [
    "import folium\n",
    "from folium.plugins import MarkerCluster"
   ]
  },
  {
   "cell_type": "code",
   "execution_count": 7,
   "metadata": {},
   "outputs": [],
   "source": [
    "locations = list(zip(wifi_signals.trilat, wifi_signals.trilong))\n",
    "signal_map = folium.Map(location=[38.046385, -84.503192], tiles='Cartodb Positron', zoom_start=11)\n",
    "signal_map.add_child(MarkerCluster(locations=locations, popups=wifi_signals[\"ssid\"]))\n",
    "signal_map.save('map.html')"
   ]
  },
  {
   "cell_type": "markdown",
   "metadata": {
    "collapsed": true
   },
   "source": [
    "[map.html](map.html)"
   ]
  },
  {
   "cell_type": "code",
   "execution_count": null,
   "metadata": {
    "collapsed": true
   },
   "outputs": [],
   "source": []
  }
 ],
 "metadata": {
  "kernelspec": {
   "display_name": "Python 3",
   "language": "python",
   "name": "python3"
  },
  "language_info": {
   "codemirror_mode": {
    "name": "ipython",
    "version": 3
   },
   "file_extension": ".py",
   "mimetype": "text/x-python",
   "name": "python",
   "nbconvert_exporter": "python",
   "pygments_lexer": "ipython3",
   "version": "3.5.2"
  }
 },
 "nbformat": 4,
 "nbformat_minor": 2
}
