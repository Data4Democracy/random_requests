{
 "cells": [
  {
   "cell_type": "code",
   "execution_count": null,
   "metadata": {},
   "outputs": [],
   "source": [
    "# indent\n",
    "def indent():\n",
    "    spaces = '4 spaces'\n",
    "    print('Python indents are %s!' % spaces)\n",
    "    \n",
    "indent()"
   ]
  },
  {
   "cell_type": "code",
   "execution_count": null,
   "metadata": {},
   "outputs": [],
   "source": [
    "# comments... are like this"
   ]
  },
  {
   "cell_type": "markdown",
   "metadata": {},
   "source": [
    "* Python waits for a complete statement before interpreting the code.\n",
    "* A statement is written as a string of text followed by CRLF (the Enter key or Return key).\n",
    "* Python IS case-sensitive.\n",
    "* Statements are executed sequentially starting at the first line of the program (from top to bottom).\n",
    "* Unlike JavaScript, Python statements do not end with a semicolon.\n"
   ]
  },
  {
   "cell_type": "code",
   "execution_count": null,
   "metadata": {},
   "outputs": [],
   "source": [
    "# line breaks using \\\n",
    "line_length = 'a line in proper PEP8 format should only be \\\n",
    "80 characters long'\n",
    "\n",
    "line_length"
   ]
  },
  {
   "cell_type": "code",
   "execution_count": null,
   "metadata": {},
   "outputs": [],
   "source": [
    "#syntax error\n",
    "4this = 'no numbers begin a variable'"
   ]
  },
  {
   "cell_type": "code",
   "execution_count": null,
   "metadata": {},
   "outputs": [],
   "source": [
    "# semantic error\n",
    "\n",
    "a = 5\n",
    "b = 15\n",
    "bad_percents = ((b - a / a) * 100)\n",
    "\n",
    "bad_percents"
   ]
  },
  {
   "cell_type": "code",
   "execution_count": null,
   "metadata": {},
   "outputs": [],
   "source": [
    "# run-time error\n",
    "\n",
    "a = 0\n",
    "b = 15\n",
    "\n",
    "100 * (b - a) / a"
   ]
  },
  {
   "cell_type": "code",
   "execution_count": null,
   "metadata": {},
   "outputs": [],
   "source": [
    "# try/except error handling\n",
    "\n",
    "a = 0\n",
    "b = 15\n",
    "\n",
    "try:\n",
    "    100 * (b - a) / a\n",
    "except ZeroDivisionError:\n",
    "    print('Come on dude... you know better! No division by zero.')"
   ]
  },
  {
   "cell_type": "code",
   "execution_count": null,
   "metadata": {},
   "outputs": [],
   "source": [
    "# variables\n",
    "greeting = 'hello world'\n",
    "greeting"
   ]
  },
  {
   "cell_type": "code",
   "execution_count": null,
   "metadata": {},
   "outputs": [],
   "source": [
    "# keywords\n",
    "import keyword\n",
    "keyword.iskeyword('raise')"
   ]
  },
  {
   "cell_type": "code",
   "execution_count": null,
   "metadata": {},
   "outputs": [],
   "source": [
    "# dyanmic type assignment and type assertions\n",
    "\n",
    "a = 4\n",
    "b = '4'\n",
    "\n",
    "a + int(b) "
   ]
  },
  {
   "cell_type": "code",
   "execution_count": null,
   "metadata": {},
   "outputs": [],
   "source": [
    "# Boolean operators\n",
    "\n",
    "a, b, c, d = 4, 2, 3, 1\n",
    "\n",
    "a == b\n",
    "a != c\n",
    "c < d\n",
    "d > a\n",
    "b <= c\n",
    "d >= a"
   ]
  },
  {
   "cell_type": "markdown",
   "metadata": {},
   "source": [
    "[built_in functions](https://docs.python.org/3/library/functions.html)"
   ]
  },
  {
   "cell_type": "code",
   "execution_count": null,
   "metadata": {},
   "outputs": [],
   "source": [
    "# data types\n",
    "\n",
    "type(4)  # int()\n",
    "type(4.0)  # float()\n",
    "type('4')  # str()\n",
    "type([2, 3, 4])  # list()\n",
    "type((2, 3, 4))  # tuple()\n",
    "type({'a': 1, 'b': 2, 'c': 3})  # dict()\n",
    "type({1, 2, 3})  # set()"
   ]
  },
  {
   "cell_type": "code",
   "execution_count": null,
   "metadata": {},
   "outputs": [],
   "source": [
    "# math operators\n",
    "\n",
    "a, b, c, d = 4, 3, 2, 1\n",
    "\n",
    "a ** b\n",
    "b % c\n",
    "c // d\n",
    "d / a\n",
    "a + b\n",
    "b - c\n"
   ]
  },
  {
   "cell_type": "code",
   "execution_count": null,
   "metadata": {},
   "outputs": [],
   "source": [
    "# string manipulation\n",
    "\n",
    "a = 'a string is a string'\n",
    "b = \"b string is b string\"\n",
    "c = 'c string is joe\\'s string'\n",
    "\n",
    "c[2:6]  # slice index\n",
    "b[2:]  # a slice from the front\n",
    "a[:3]  # slice off the back\n",
    "c[::2]  #start, stop, step\n",
    "a[::-1]  # reverse string\n",
    "\n",
    "# string operators\n",
    "s = 'string'\n",
    "s2 = 'I am a ' + s\n",
    "\n",
    "# in and not in\n",
    "s in s2\n",
    "'stuff' not in s2\n",
    "\n",
    "# formatting strings\n",
    "string_format = f'this {s} is saying that {s2}'\n",
    "\n",
    "# methods\n",
    "s2.upper()\n",
    "s2.lower()\n",
    "len(s2)\n",
    "max(s2)\n",
    "min(s2)\n",
    "\n",
    "# reversed()\n",
    "for l in reversed(s):\n",
    "    print(l)\n",
    "\n",
    "# string type check\n",
    "s.isalnum()\n",
    "\n",
    "# join\n",
    "', '.join(s2)\n",
    "\n",
    "# split\n",
    "s2.split()\n",
    "\n",
    "# find\n",
    "s2.find('s')\n",
    "\n",
    "# replace\n",
    "s = s.replace('string', 'stringy')"
   ]
  },
  {
   "cell_type": "code",
   "execution_count": null,
   "metadata": {},
   "outputs": [],
   "source": [
    "# lists\n",
    "\n",
    "nums = [1,2,3,4,5,6]\n",
    "strings = ['cat','cow','crow','downward dog']\n",
    "lists = [[1,2,3,4,5,6],['cat','cow','crow','downward dog']]\n",
    "lists2 = [nums,strings]\n",
    "\n",
    "# indexing and slicing\n",
    "nums[3]\n",
    "nums[3:6]\n",
    "lists[0][2]\n",
    "nums[1] = 'two'\n",
    "del(nums[1])\n",
    "nums + strings\n",
    "nums * 3\n",
    "3 in nums\n",
    "\n",
    "# methods\n",
    "len(nums)\n",
    "max(nums)\n",
    "min(nums)\n",
    "# help(nums)\n",
    "nums.append(3)\n",
    "nums.insert(2, 2)\n",
    "nums.reverse()\n",
    "nums_2 = nums.copy()"
   ]
  },
  {
   "cell_type": "code",
   "execution_count": null,
   "metadata": {},
   "outputs": [],
   "source": [
    "# tuples\n",
    "\n",
    "horses = ('Appaloosa', 'Brumby', 'Colorado Ranger')\n",
    "horses[1]\n",
    "len(horses)\n",
    "horses * 3\n",
    "a, b, c = horses"
   ]
  },
  {
   "cell_type": "code",
   "execution_count": null,
   "metadata": {},
   "outputs": [],
   "source": [
    "# dictionaries\n",
    "\n",
    "# key index call\n",
    "city_population = {\"New York City\":8550405, \"Los Angeles\":3971883, \"Chicago\":2720546}\n",
    "city_population['New York City'] = 8550406\n",
    "city_population['Buenos Aires'] = 2890000\n",
    "del(city_population['Los Angeles'])\n",
    "\n",
    "# list to dict\n",
    "colors = [['red','ff0000'],['grn','00ff00'],['blu','0000ff']]\n",
    "color_dict = dict(colors)\n",
    "\n",
    "# operators\n",
    "for key in city_population.keys():\n",
    "    print(key)\n",
    "\n",
    "for value in city_population.values():\n",
    "    print(value)\n",
    "\n",
    "for item in city_population.items():\n",
    "    print(item)\n"
   ]
  },
  {
   "cell_type": "code",
   "execution_count": null,
   "metadata": {},
   "outputs": [],
   "source": [
    "# functions\n",
    "\n",
    "def test_func(test_input):\n",
    "    print(f'Hello {test_input}!')\n",
    "\n",
    "test_var = test_func('Joe')\n",
    "test_var\n",
    "\n",
    "def say_things():\n",
    "    # define variables scoped to function\n",
    "    thing_1 = 'It is Arthur – King of the Britons.'\n",
    "    thing_2 = 'To seek the Holy Grail.'\n",
    "    thing_3 = 'On second thoughts, let us not go to Camelot. It is a silly place.'\n",
    "    return (thing_1, thing_2, thing_3) # return values as tuple\n",
    "\n",
    "a,b,c = say_things()\n",
    "print(a, b, c, end='\\n')"
   ]
  },
  {
   "cell_type": "code",
   "execution_count": null,
   "metadata": {},
   "outputs": [],
   "source": [
    "# flow control\n",
    "\n",
    "# if, elif, else\n",
    "temp = 40\n",
    "\n",
    "if temp <= 32:\n",
    "    print('It is freezing!')\n",
    "elif 32 < temp < 50:\n",
    "    print('It\\'s not freezing but still cold.')\n",
    "elif 51 < temp < 68:\n",
    "    print('Okay, it\\'s nice out') \n",
    "else:\n",
    "    print('The weather is warm but may be too hot!')\n",
    "\n",
    "# while loops\n",
    "count = 10\n",
    "while count > 0:\n",
    "    print(count)\n",
    "    if count == 3:\n",
    "        break\n",
    "    count -= 1\n",
    "\n",
    "# for loop\n",
    "question = 'What is the air-speed velocity of an unladen swallow?'\n",
    "words = question.split() # return list of words\n",
    "\n",
    "for word in words:\n",
    "    if word == 'African' or word == 'European':\n",
    "        print('Question is specific')\n",
    "    else:\n",
    "        # future code\n",
    "        pass"
   ]
  },
  {
   "cell_type": "code",
   "execution_count": null,
   "metadata": {},
   "outputs": [],
   "source": [
    "# modules\n",
    "import math\n",
    "\n",
    "this_root = math.sqrt(512)\n",
    "this_root"
   ]
  }
 ],
 "metadata": {
  "kernelspec": {
   "display_name": "Python 3",
   "language": "python",
   "name": "python3"
  },
  "language_info": {
   "codemirror_mode": {
    "name": "ipython",
    "version": 3
   },
   "file_extension": ".py",
   "mimetype": "text/x-python",
   "name": "python",
   "nbconvert_exporter": "python",
   "pygments_lexer": "ipython3",
   "version": "3.6.6"
  }
 },
 "nbformat": 4,
 "nbformat_minor": 2
}
