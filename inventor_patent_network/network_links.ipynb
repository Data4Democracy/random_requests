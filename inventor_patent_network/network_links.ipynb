{
 "cells": [
  {
   "cell_type": "markdown",
   "metadata": {},
   "source": [
    "# Patent Inventors Ego Analysis"
   ]
  },
  {
   "cell_type": "markdown",
   "metadata": {},
   "source": [
    "## Import libraries"
   ]
  },
  {
   "cell_type": "code",
   "execution_count": null,
   "metadata": {},
   "outputs": [],
   "source": [
    "# import pandas for initial processing\n",
    "import pandas as pd\n",
    "import matplotlib.pyplot as plt\n",
    "\n",
    "%matplotlib inline"
   ]
  },
  {
   "cell_type": "code",
   "execution_count": null,
   "metadata": {},
   "outputs": [],
   "source": [
    "# import NetworkX and nxviz for graphs\n",
    "import networkx as nx\n",
    "from nxviz import MatrixPlot, ArcPlot, CircosPlot"
   ]
  },
  {
   "cell_type": "markdown",
   "metadata": {},
   "source": [
    "## Load/examine the data"
   ]
  },
  {
   "cell_type": "code",
   "execution_count": null,
   "metadata": {},
   "outputs": [],
   "source": [
    "# read in the raw CSV\n",
    "data = pd.read_csv('co-co-inventing.csv', low_memory=False)\n",
    "data.head(20)"
   ]
  },
  {
   "cell_type": "code",
   "execution_count": null,
   "metadata": {},
   "outputs": [],
   "source": [
    "# View a default data summary of all fields in data\n",
    "data.describe(include='all')"
   ]
  },
  {
   "cell_type": "markdown",
   "metadata": {},
   "source": [
    "### Inventors"
   ]
  },
  {
   "cell_type": "code",
   "execution_count": null,
   "metadata": {},
   "outputs": [],
   "source": [
    "# List top 20 inventors with most patent references\n",
    "inventor_patents_count = data['inventor_id'].value_counts()[:20]\n",
    "inventor_patents_count"
   ]
  },
  {
   "cell_type": "code",
   "execution_count": null,
   "metadata": {},
   "outputs": [],
   "source": [
    "# Plot top 20 as bar chart sorted from most to least\n",
    "inventor_patents_count.sort_values(ascending=True).plot(kind='barh')\n",
    "# To save as a PNG\n",
    "# plt.savefig(\"inventor_barh.png\", dpi=300)"
   ]
  },
  {
   "cell_type": "markdown",
   "metadata": {},
   "source": [
    "### Patents"
   ]
  },
  {
   "cell_type": "code",
   "execution_count": null,
   "metadata": {},
   "outputs": [],
   "source": [
    "# list top 20 patents by number of mentions\n",
    "patent_counts = data['patent_id'].value_counts()[:20]\n",
    "patent_counts"
   ]
  },
  {
   "cell_type": "code",
   "execution_count": null,
   "metadata": {},
   "outputs": [],
   "source": [
    "# Plot top 20 as bar chart sorted from most to least\n",
    "patent_counts.sort_values(ascending=True).plot(kind='barh')\n",
    "# To save as a PNG\n",
    "# plt.savefig(\"patents_barh.png\", dpi=300)"
   ]
  },
  {
   "cell_type": "markdown",
   "metadata": {},
   "source": [
    "### Firms"
   ]
  },
  {
   "cell_type": "code",
   "execution_count": null,
   "metadata": {},
   "outputs": [],
   "source": [
    "# number of unique Firms\n",
    "len(data.Firm_id.unique())"
   ]
  },
  {
   "cell_type": "code",
   "execution_count": null,
   "metadata": {},
   "outputs": [],
   "source": [
    "# list top firms by number mentions (either by patent/inventor/both)\n",
    "firm_counts = data['Firm_id'].value_counts()[:20]\n",
    "firm_counts"
   ]
  },
  {
   "cell_type": "code",
   "execution_count": null,
   "metadata": {},
   "outputs": [],
   "source": [
    "# Plot top 20 as bar chart sorted from most to least\n",
    "firm_counts.sort_values(ascending=True).plot(kind='barh')\n",
    "# To save as a PNG\n",
    "# plt.savefig(\"firms_barh.png\", dpi=300)"
   ]
  },
  {
   "cell_type": "code",
   "execution_count": null,
   "metadata": {},
   "outputs": [],
   "source": []
  },
  {
   "cell_type": "markdown",
   "metadata": {},
   "source": [
    "### Create Inventor's Patent Graph"
   ]
  },
  {
   "cell_type": "code",
   "execution_count": null,
   "metadata": {},
   "outputs": [],
   "source": [
    "# select specific inventor\n",
    "data_3930451_3 = data.loc[data['inventor_id'] == '3930451-3']\n",
    "data_3930451_3.head(10)"
   ]
  },
  {
   "cell_type": "code",
   "execution_count": null,
   "metadata": {},
   "outputs": [],
   "source": [
    "# count number of patents for selected inventor\n",
    "len(data_3930451_3)"
   ]
  },
  {
   "cell_type": "code",
   "execution_count": null,
   "metadata": {},
   "outputs": [],
   "source": [
    "# group by firm to see how many unique patents the inventor made for each\n",
    "inventor_firm_groups = data_3930451_3.groupby(['Firm_id', 'inventor_id']).count()\n",
    "# To view the patent numbers\n",
    "# inventor_firm_groups = data_3930451_3.groupby(['Firm_id', 'inventor_id', 'patent_id']).count()\n",
    "inventor_firm_groups"
   ]
  },
  {
   "cell_type": "code",
   "execution_count": null,
   "metadata": {},
   "outputs": [],
   "source": [
    "# create a graph from our inventor data\n",
    "# ego is inventor and alters are patents\n",
    "# edge data contains the Firm_id\n",
    "graph_3930451_3 = nx.from_pandas_dataframe(data_3930451_3, 'inventor_id', 'patent_id', edge_attr=['Firm_id'])"
   ]
  },
  {
   "cell_type": "code",
   "execution_count": null,
   "metadata": {},
   "outputs": [],
   "source": [
    "# draw the inventor/pantent graph\n",
    "nx.draw(graph_3930451_3, with_labels=True)\n",
    "# To save as a PNG\n",
    "# plt.savefig(\"graph_3930451_3_patents.png\", dpi=300)"
   ]
  },
  {
   "cell_type": "code",
   "execution_count": null,
   "metadata": {},
   "outputs": [],
   "source": []
  },
  {
   "cell_type": "markdown",
   "metadata": {},
   "source": [
    "### Create Inventor-to-Inventor Patent Graph"
   ]
  },
  {
   "cell_type": "code",
   "execution_count": null,
   "metadata": {},
   "outputs": [],
   "source": [
    "# create a list of inventors per patent\n",
    "data_patent_inventors = data.groupby('patent_id')['inventor_id'].apply(list)"
   ]
  },
  {
   "cell_type": "code",
   "execution_count": null,
   "metadata": {},
   "outputs": [],
   "source": [
    "# to dataframe\n",
    "dpi_df = data_patent_inventors.to_frame()\n",
    "dpi_df['patent_id1'] = dpi_df.index\n",
    "dpi_df.head()"
   ]
  },
  {
   "cell_type": "code",
   "execution_count": null,
   "metadata": {},
   "outputs": [],
   "source": []
  },
  {
   "cell_type": "code",
   "execution_count": null,
   "metadata": {},
   "outputs": [],
   "source": []
  },
  {
   "cell_type": "markdown",
   "metadata": {},
   "source": [
    "### Create Inventor-to-Inventor Firm Graph"
   ]
  },
  {
   "cell_type": "code",
   "execution_count": null,
   "metadata": {},
   "outputs": [],
   "source": [
    "# create a list of inventors per firm\n",
    "data_firm_inventors = data.groupby('Firm_id')['inventor_id'].apply(list)\n",
    "data_firm_inventors.head()"
   ]
  },
  {
   "cell_type": "code",
   "execution_count": null,
   "metadata": {},
   "outputs": [],
   "source": [
    "# to dataframe\n",
    "dfi_df = data_firm_inventors.to_frame()\n",
    "dfi_df['firm_id'] = dfi_df.index\n",
    "dfi_df.head()"
   ]
  },
  {
   "cell_type": "code",
   "execution_count": null,
   "metadata": {},
   "outputs": [],
   "source": []
  }
 ],
 "metadata": {
  "kernelspec": {
   "display_name": "Python 3",
   "language": "python",
   "name": "python3"
  },
  "language_info": {
   "codemirror_mode": {
    "name": "ipython",
    "version": 3
   },
   "file_extension": ".py",
   "mimetype": "text/x-python",
   "name": "python",
   "nbconvert_exporter": "python",
   "pygments_lexer": "ipython3",
   "version": "3.5.2"
  }
 },
 "nbformat": 4,
 "nbformat_minor": 2
}
